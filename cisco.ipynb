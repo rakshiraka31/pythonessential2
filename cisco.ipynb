{
 "cells": [
  {
   "cell_type": "code",
   "execution_count": 1,
   "id": "74de9d0b",
   "metadata": {},
   "outputs": [
    {
     "name": "stdout",
     "output_type": "stream",
     "text": [
      "Hello, my name is hello Bahadur\n"
     ]
    }
   ],
   "source": [
    "def introduction(first_name, last_name=\"Smith\"):\n",
    "     print(\"Hello, my name is\", first_name, last_name)\n",
    "     \n",
    "introduction(\"hello\",\"Bahadur\")"
   ]
  },
  {
   "cell_type": "code",
   "execution_count": 2,
   "id": "08327841",
   "metadata": {},
   "outputs": [
    {
     "name": "stdout",
     "output_type": "stream",
     "text": [
      "Hello, my name is hello Smith\n"
     ]
    }
   ],
   "source": [
    "def introduction(first_name, last_name=\"Smith\"):\n",
    "     print(\"Hello, my name is\", first_name, last_name)\n",
    "     \n",
    "introduction(\"hello\")"
   ]
  },
  {
   "cell_type": "code",
   "execution_count": 3,
   "id": "54064220",
   "metadata": {},
   "outputs": [
    {
     "name": "stdout",
     "output_type": "stream",
     "text": [
      "Hi, Greg\n"
     ]
    }
   ],
   "source": [
    "def hi(name):\n",
    "    print(\"Hi,\", name)\n",
    "\n",
    "hi(\"Greg\")\n",
    "\n"
   ]
  },
  {
   "cell_type": "code",
   "execution_count": 4,
   "id": "c8328a35",
   "metadata": {},
   "outputs": [
    {
     "name": "stdout",
     "output_type": "stream",
     "text": [
      "Hi, Konrad\n",
      "Hi, Sebastian\n"
     ]
    }
   ],
   "source": [
    "def hi_all(name_1, name_2):\n",
    "    print(\"Hi,\", name_2)\n",
    "    print(\"Hi,\", name_1)\n",
    " \n",
    "hi_all(\"Sebastian\", \"Konrad\")"
   ]
  },
  {
   "cell_type": "code",
   "execution_count": 5,
   "id": "84ac5b9b",
   "metadata": {},
   "outputs": [
    {
     "name": "stdout",
     "output_type": "stream",
     "text": [
      "Street: kalika\n",
      "Postal Code: 446000\n",
      "City: katham\n",
      "Your address is: kalika St., katham 446000\n"
     ]
    }
   ],
   "source": [
    "def address(street, city, postal_code):\n",
    "    print(\"Your address is:\", street, \"St.,\", city, postal_code)\n",
    " \n",
    "s = input(\"Street: \")\n",
    "p_c = input(\"Postal Code: \")\n",
    "c = input(\"City: \")\n",
    "address(s, c, p_c)"
   ]
  },
  {
   "cell_type": "code",
   "execution_count": null,
   "id": "d49a7e5e",
   "metadata": {},
   "outputs": [],
   "source": []
  }
 ],
 "metadata": {
  "kernelspec": {
   "display_name": "Python 3 (ipykernel)",
   "language": "python",
   "name": "python3"
  },
  "language_info": {
   "codemirror_mode": {
    "name": "ipython",
    "version": 3
   },
   "file_extension": ".py",
   "mimetype": "text/x-python",
   "name": "python",
   "nbconvert_exporter": "python",
   "pygments_lexer": "ipython3",
   "version": "3.9.7"
  }
 },
 "nbformat": 4,
 "nbformat_minor": 5
}
